{
 "cells": [
  {
   "cell_type": "code",
   "execution_count": 2,
   "metadata": {},
   "outputs": [
    {
     "name": "stderr",
     "output_type": "stream",
     "text": [
      "c:\\Users\\user\\AppData\\Local\\Programs\\Python\\Python311\\Lib\\site-packages\\torchvision\\io\\image.py:13: UserWarning: Failed to load image Python extension: 'Could not find module 'C:\\Users\\user\\AppData\\Local\\Programs\\Python\\Python311\\Lib\\site-packages\\torchvision\\image.pyd' (or one of its dependencies). Try using the full path with constructor syntax.'If you don't plan on using image functionality from `torchvision.io`, you can ignore this warning. Otherwise, there might be something wrong with your environment. Did you have `libjpeg` or `libpng` installed before building `torchvision` from source?\n",
      "  warn(\n"
     ]
    }
   ],
   "source": [
    "import torch\n",
    "import torchvision\n",
    "from torchvision import datasets,transforms\n",
    "from torch.autograd import Variable\n",
    "\n",
    "transform=transforms.Compose([transforms.ToTensor(),transforms.Normalize((0.1307,), (0.3081,))])\n",
    "data_train=datasets.MNIST('./data',transform=transform,train=True)\n",
    "data_test=datasets.MNIST('./data',transform=transform,train=False)\n",
    "\n"
   ]
  },
  {
   "cell_type": "code",
   "execution_count": 3,
   "metadata": {},
   "outputs": [],
   "source": [
    "from torch.utils.data.dataloader import DataLoader\n",
    "\n",
    "\n",
    "data_loader_train=DataLoader(dataset=data_train,batch_size=64,shuffle=True)\n",
    "data_loader_test=DataLoader(dataset=data_test,batch_size=64,shuffle=True)\n"
   ]
  },
  {
   "cell_type": "code",
   "execution_count": 5,
   "metadata": {},
   "outputs": [],
   "source": [
    "import torch.nn as nn\n",
    "import torch.nn.functional as F\n",
    "class CNN(nn.Module):\n",
    "    def __init__(self):\n",
    "        super().__init__()\n",
    "        self.conv1=nn.Conv2d(1,32,3,1,1)\n",
    "        self.conv2=nn.Conv2d(32,64,3,1,1)\n",
    "        self.pool=nn.MaxPool2d(2,2)\n",
    "        self.fc1=nn.Linear(64*7*7,512)\n",
    "        self.fc2=nn.Linear(512,256)\n",
    "        self.fc3=nn.Linear(256,10)\n",
    "        self.dropout = nn.Dropout(0.5)\n",
    "    def forward(self,x):\n",
    "        x=self.pool(F.relu(self.conv1(x)))\n",
    "        x=self.pool(F.relu(self.conv2(x)))\n",
    "        x=x.view(-1,64*7*7)\n",
    "        x=self.dropout(F.relu(self.fc1(x)))\n",
    "        x=self.dropout(F.relu(self.fc2(x)))\n",
    "        x=self.fc3(x)\n",
    "        return x\n",
    "net=CNN()\n",
    "import torch.optim as optim\n",
    "\n",
    "criterion = nn.CrossEntropyLoss()\n",
    "optimizer = optim.Adam(net.parameters(), lr=0.0001)"
   ]
  },
  {
   "cell_type": "code",
   "execution_count": 4,
   "metadata": {},
   "outputs": [
    {
     "name": "stdout",
     "output_type": "stream",
     "text": [
      "[1,  100] loss :1.839\n",
      "[1,  200] loss :0.762\n",
      "[1,  300] loss :0.511\n",
      "[1,  400] loss :0.373\n",
      "[1,  500] loss :0.311\n",
      "[1,  600] loss :0.275\n",
      "[1,  700] loss :0.223\n",
      "[1,  800] loss :0.217\n",
      "[1,  900] loss :0.192\n",
      "[2,  100] loss :0.177\n",
      "[2,  200] loss :0.159\n",
      "[2,  300] loss :0.160\n",
      "[2,  400] loss :0.134\n",
      "[2,  500] loss :0.129\n",
      "[2,  600] loss :0.121\n",
      "[2,  700] loss :0.118\n",
      "[2,  800] loss :0.112\n",
      "[2,  900] loss :0.124\n",
      "[3,  100] loss :0.105\n",
      "[3,  200] loss :0.102\n",
      "[3,  300] loss :0.100\n",
      "[3,  400] loss :0.094\n",
      "[3,  500] loss :0.095\n",
      "[3,  600] loss :0.077\n",
      "[3,  700] loss :0.090\n",
      "[3,  800] loss :0.085\n",
      "[3,  900] loss :0.084\n"
     ]
    }
   ],
   "source": [
    "\n",
    "train_loss = []\n",
    "\n",
    "device = torch.device(\"cuda:0\" if torch.cuda.is_available() else \"cpu\")\n",
    "net = net.to(device)\n",
    "for epoch in range(3):\n",
    "    running_loss = 0.0\n",
    "    for i,data in enumerate(data_loader_train,0):#0是下標起始位置預設為0\n",
    "        # data 的格式[[inputs, labels]]       \n",
    "#         inputs,labels = data\n",
    "        inputs,labels = data[0].to(device), data[1].to(device)\n",
    "        #初始為0，清除上個batch的梯度訊息\n",
    "        optimizer.zero_grad()         \n",
    "        #前向+後向+優化\n",
    "        outputs = net(inputs)\n",
    "        loss = criterion(outputs,labels)\n",
    "        loss.backward()\n",
    "        optimizer.step()\n",
    "\n",
    "    \n",
    "        running_loss += loss.item()\n",
    "        if i%100 == 99:\n",
    "            PATH = './mnist_net.pth'\n",
    "            torch.save(net.state_dict(), PATH)#保存訓練結果\n",
    "\n",
    "            print('[%d,%5d] loss :%.3f' %\n",
    "                 (epoch+1,i+1,running_loss/100))\n",
    "            running_loss = 0.0\n",
    "        train_loss.append(loss.item())\n",
    "\n"
   ]
  },
  {
   "cell_type": "code",
   "execution_count": 11,
   "metadata": {},
   "outputs": [
    {
     "name": "stdout",
     "output_type": "stream",
     "text": [
      "Accuracy of the network on the  test images:  97.62 %\n"
     ]
    }
   ],
   "source": [
    "test_net=CNN()#利用test data測試訓練成果\n",
    "PATH = './mnist_net.pth'\n",
    "test_net.load_state_dict(torch.load(PATH))\n",
    "\n",
    "total=0\n",
    "correct=0\n",
    "with torch.no_grad():\n",
    "    for i,data in enumerate(data_loader_test,0):\n",
    "        input,label=data\n",
    "        test_out=test_net(input)\n",
    "        _,predicted=torch.max(test_out.data,dim=1)\n",
    "        total+=label.size(0)\n",
    "        correct+=(predicted==label).sum().item()\n",
    "print('Accuracy of the network on the  test images: ',float(100*correct/total),'%')"
   ]
  },
  {
   "cell_type": "code",
   "execution_count": 78,
   "metadata": {},
   "outputs": [
    {
     "data": {
      "image/png": "[encoded data removed]",
      "text/plain": [
       "<Figure size 200x200 with 1 Axes>"
      ]
     },
     "metadata": {},
     "output_type": "display_data"
    }
   ],
   "source": [
    "from matplotlib import pyplot as plt\n",
    "import random\n",
    "show_test=datasets.MNIST('./data',train=False)\n",
    "#test data測試訓練成果--2\n",
    "net=CNN()\n",
    "PATH = './mnist_net.pth'\n",
    "net.load_state_dict(torch.load(PATH))\n",
    "\n",
    "fig=plt.figure(figsize=(2,2))\n",
    "x=random.randint(0,9999)\n",
    "transform=torchvision.transforms.ToTensor()\n",
    "image=transform(show_test[x][0])\n",
    "output=net(image)\n",
    "_,predicted=torch.max(output.data,dim=1)\n",
    "\n",
    "plt.title(\"I guess it is {} (answer={})\".format(predicted.item(),show_test[x][1]))\n",
    "plt.imshow(show_test[x][0])\n",
    "plt.show()\n",
    "\n",
    "\n",
    " "
   ]
  },
  {
   "cell_type": "code",
   "execution_count": 1,
   "metadata": {},
   "outputs": [
    {
     "name": "stdout",
     "output_type": "stream",
     "text": [
      "(28, 28)\n"
     ]
    },
    {
     "data": {
      "text/plain": [
       "True"
      ]
     },
     "execution_count": 1,
     "metadata": {},
     "output_type": "execute_result"
    }
   ],
   "source": [
    "import cv2#手繪圖測試——1(不要亂用，用來改圖片格式)\n",
    "img_path=\"./drawToTest/1.png\"\n",
    "image=cv2.imread(img_path)\n",
    "gray = cv2.cvtColor(image, cv2.COLOR_BGR2GRAY)\n",
    "gray_invert=cv2.bitwise_not(gray)\n",
    "print(gray_invert.shape)\n",
    "cv2.imwrite(img_path,gray_invert)"
   ]
  },
  {
   "cell_type": "code",
   "execution_count": 10,
   "metadata": {},
   "outputs": [
    {
     "name": "stdout",
     "output_type": "stream",
     "text": [
      "torch.Size([1, 28, 28])\n",
      "tensor([0])\n",
      "torch.Size([1, 28, 28])\n",
      "tensor([1])\n",
      "torch.Size([1, 28, 28])\n",
      "tensor([2])\n",
      "torch.Size([1, 28, 28])\n",
      "tensor([3])\n",
      "torch.Size([1, 28, 28])\n",
      "tensor([1])\n",
      "torch.Size([1, 28, 28])\n",
      "tensor([5])\n",
      "torch.Size([1, 28, 28])\n",
      "tensor([6])\n",
      "torch.Size([1, 28, 28])\n",
      "tensor([7])\n",
      "torch.Size([1, 28, 28])\n",
      "tensor([3])\n",
      "torch.Size([1, 28, 28])\n",
      "tensor([7])\n"
     ]
    }
   ],
   "source": [
    "import PIL.Image#手繪圖測試——2\n",
    "net=CNN()\n",
    "PATH = './mnist_net.pth'\n",
    "\n",
    "net.load_state_dict(torch.load(PATH))\n",
    "with torch.no_grad():\n",
    "    for x in range(10):\n",
    "        img_path=\"./drawToTest/{}.png\".format(x)\n",
    "        image=PIL.Image.open(img_path)\n",
    "        transform=torchvision.transforms.Compose([transforms.ToTensor(),transforms.Normalize((0.1307,), (0.3081,))])\n",
    "        image=transform(image)\n",
    "        print(image.shape)\n",
    "        output=net(image)\n",
    "        _,predicted=torch.max(output.data,dim=1)\n",
    "        print(predicted)\n"
   ]
  }
 ],
 "metadata": {
  "kernelspec": {
   "display_name": "Python 3",
   "language": "python",
   "name": "python3"
  },
  "language_info": {
   "codemirror_mode": {
    "name": "ipython",
    "version": 3
   },
   "file_extension": ".py",
   "mimetype": "text/x-python",
   "name": "python",
   "nbconvert_exporter": "python",
   "pygments_lexer": "ipython3",
   "version": "3.11.1"
  }
 },
 "nbformat": 4,
 "nbformat_minor": 2
}
